{
 "cells": [
  {
   "cell_type": "markdown",
   "id": "1dc7531b",
   "metadata": {
    "slideshow": {
     "slide_type": "slide"
    }
   },
   "source": [
    "# Python Basics\n",
    "* **Created by:** Eric Martinez\n",
    "* **For:** 3351 - AI-Powered Applications\n",
    "* **At:** University of Texas Rio-Grande Valley"
   ]
  },
  {
   "cell_type": "markdown",
   "id": "f32d45fe",
   "metadata": {
    "slideshow": {
     "slide_type": "slide"
    }
   },
   "source": [
    "## 1. Hello World\n",
    "\n",
    "The tradition of programming is to start learning any new language by printing \"Hello, World!\" on the screen. In Python, this can be done with just one line of code using the `print()` function."
   ]
  },
  {
   "cell_type": "code",
   "execution_count": 53,
   "id": "230f2bf8",
   "metadata": {
    "slideshow": {
     "slide_type": "fragment"
    }
   },
   "outputs": [
    {
     "name": "stdout",
     "output_type": "stream",
     "text": [
      "Hello, World!\n"
     ]
    }
   ],
   "source": [
    "# This is a Python cell. You can run Python code here.\n",
    "# Click on the cell to select it and execute the contents in the following ways:\n",
    "# - Click the Run button in the toolbar above.\n",
    "# - Press CTRL + ENTER or SHIFT + ENTER on your keyboard.\n",
    "\n",
    "# Let's print \"Hello, World!\".\n",
    "print(\"Hello, World!\")"
   ]
  },
  {
   "cell_type": "markdown",
   "id": "ee8cff88",
   "metadata": {
    "slideshow": {
     "slide_type": "fragment"
    }
   },
   "source": [
    "When you run the cell, it should display the text \"Hello, World!\" below it. This is the output of the `print()` function. The `print()` function in Python outputs the data you pass into it onto the console. This is a simple yet powerful function that you will use frequently when coding in Python."
   ]
  },
  {
   "cell_type": "markdown",
   "id": "e69d1db7",
   "metadata": {
    "slideshow": {
     "slide_type": "slide"
    }
   },
   "source": [
    "## 2. Control Flow"
   ]
  },
  {
   "cell_type": "markdown",
   "id": "6b8fc75f",
   "metadata": {
    "slideshow": {
     "slide_type": "fragment"
    }
   },
   "source": [
    "Control flow is a concept that allows the Python program to execute certain code blocks conditionally and/or repeatedly. This is done using control flow statements. The main control flow statements are `if`, `for`, and `while`."
   ]
  },
  {
   "cell_type": "markdown",
   "id": "e407908e",
   "metadata": {
    "slideshow": {
     "slide_type": "slide"
    }
   },
   "source": [
    "#### 2.1 If Statement"
   ]
  },
  {
   "cell_type": "markdown",
   "id": "57a27e28",
   "metadata": {
    "slideshow": {
     "slide_type": "fragment"
    }
   },
   "source": [
    "The `if` statement is used to test a specific condition. If the condition is true, a block of indented code will be executed."
   ]
  },
  {
   "cell_type": "code",
   "execution_count": 7,
   "id": "24338554",
   "metadata": {
    "slideshow": {
     "slide_type": "fragment"
    }
   },
   "outputs": [
    {
     "name": "stdout",
     "output_type": "stream",
     "text": [
      "x is positive\n"
     ]
    }
   ],
   "source": [
    "# Let's define a variable with a specific value\n",
    "x = 10\n",
    "\n",
    "# Now we will use an if statement to check if x is greater than 0\n",
    "if x > 0:\n",
    "    print(\"x is positive\")"
   ]
  },
  {
   "cell_type": "markdown",
   "id": "34d5271c",
   "metadata": {
    "slideshow": {
     "slide_type": "slide"
    }
   },
   "source": [
    "#### 2.2 Else and Elif"
   ]
  },
  {
   "cell_type": "markdown",
   "id": "3f5a0cc2",
   "metadata": {
    "slideshow": {
     "slide_type": "fragment"
    }
   },
   "source": [
    "The `else` statement is used to define a block of code to be executed if the condition in the `if` statement is false. The `elif` (short for else if) statement is used to check multiple expressions for TRUE and execute a block of code as soon as one of the conditions evaluates to TRUE."
   ]
  },
  {
   "cell_type": "code",
   "execution_count": 9,
   "id": "68aaec20",
   "metadata": {
    "slideshow": {
     "slide_type": "fragment"
    }
   },
   "outputs": [
    {
     "name": "stdout",
     "output_type": "stream",
     "text": [
      "x is negative\n"
     ]
    }
   ],
   "source": [
    "# Let's redefine x to be a negative number\n",
    "x = -10\n",
    "\n",
    "# Now we will use if, elif, and else to check the value of x\n",
    "if x > 0:\n",
    "    print(\"x is positive\")\n",
    "elif x == 0:\n",
    "    print(\"x is zero\")\n",
    "else:\n",
    "    print(\"x is negative\")"
   ]
  },
  {
   "cell_type": "markdown",
   "id": "ad6141c5",
   "metadata": {},
   "source": [
    "Remember, control flow is a fundamental concept in Python (and programming in general). It allows you to control the execution of your code which is crucial when implementing algorithms and logic."
   ]
  },
  {
   "cell_type": "markdown",
   "id": "6214d748",
   "metadata": {
    "slideshow": {
     "slide_type": "slide"
    }
   },
   "source": [
    "## 3. Lists"
   ]
  },
  {
   "cell_type": "markdown",
   "id": "8df62d8a",
   "metadata": {
    "slideshow": {
     "slide_type": "fragment"
    }
   },
   "source": [
    "A list in Python is a collection of items. Lists are ordered, changeable, and allow duplicate values. Each value that is a part of a list is called an element. Lists are great to use when you want to work with many related values."
   ]
  },
  {
   "cell_type": "markdown",
   "id": "5c40b6c1",
   "metadata": {
    "slideshow": {
     "slide_type": "slide"
    }
   },
   "source": [
    "#### 3.1 Creating a List\n",
    "\n",
    "You can create a list by placing a comma-separated sequence of items in square brackets `[]`."
   ]
  },
  {
   "cell_type": "code",
   "execution_count": 11,
   "id": "ec69b92e",
   "metadata": {
    "slideshow": {
     "slide_type": "fragment"
    }
   },
   "outputs": [
    {
     "name": "stdout",
     "output_type": "stream",
     "text": [
      "[1, 2, 3, 4, 5]\n"
     ]
    }
   ],
   "source": [
    "# Let's create a list of integers\n",
    "numbers = [1, 2, 3, 4, 5]\n",
    "print(numbers)"
   ]
  },
  {
   "cell_type": "markdown",
   "id": "62ac1db1",
   "metadata": {
    "slideshow": {
     "slide_type": "slide"
    }
   },
   "source": [
    "#### 3.2 Accessing Elements\n",
    "\n",
    "You can access the list items by referring to the index number. Python lists are zero-indexed."
   ]
  },
  {
   "cell_type": "code",
   "execution_count": 13,
   "id": "11c04d30",
   "metadata": {
    "slideshow": {
     "slide_type": "fragment"
    }
   },
   "outputs": [
    {
     "name": "stdout",
     "output_type": "stream",
     "text": [
      "1\n"
     ]
    }
   ],
   "source": [
    "# Let's access the first item in the list\n",
    "first_number = numbers[0]\n",
    "print(first_number)"
   ]
  },
  {
   "cell_type": "markdown",
   "id": "b032ebc2",
   "metadata": {
    "slideshow": {
     "slide_type": "slide"
    }
   },
   "source": [
    "#### 3.3 Modifying a List\n",
    "\n",
    "Lists are mutable, meaning you can change their content."
   ]
  },
  {
   "cell_type": "code",
   "execution_count": 14,
   "id": "aea9ffa2",
   "metadata": {
    "slideshow": {
     "slide_type": "fragment"
    }
   },
   "outputs": [
    {
     "name": "stdout",
     "output_type": "stream",
     "text": [
      "[1, 20, 3, 4, 5]\n"
     ]
    }
   ],
   "source": [
    "# Let's change the second item in the list\n",
    "numbers[1] = 20\n",
    "print(numbers)"
   ]
  },
  {
   "cell_type": "markdown",
   "id": "1dd89019",
   "metadata": {
    "slideshow": {
     "slide_type": "slide"
    }
   },
   "source": [
    "#### 3.4 List Methods\n",
    "\n",
    "Python provides several methods that you can use to modify lists. Some of the most commonly used ones are `append()`, `insert()`, `remove()`, `pop()`, `clear()`, `index()`, `count()`, `sort()`, and `reverse()`."
   ]
  },
  {
   "cell_type": "code",
   "execution_count": 16,
   "id": "f37e734b",
   "metadata": {
    "slideshow": {
     "slide_type": "fragment"
    }
   },
   "outputs": [
    {
     "name": "stdout",
     "output_type": "stream",
     "text": [
      "[1, 20, 3, 4, 5, 6]\n",
      "[20, 3, 4, 5, 6]\n"
     ]
    }
   ],
   "source": [
    "# Let's append a number to the list\n",
    "numbers.append(6)\n",
    "print(numbers)\n",
    "\n",
    "# Now, let's remove the first number from the list\n",
    "numbers.remove(1)\n",
    "print(numbers)"
   ]
  },
  {
   "cell_type": "markdown",
   "id": "17fa4cc3",
   "metadata": {},
   "source": [
    "Remember, lists are one of the most frequently used data structures in Python. They are incredibly flexible and can hold completely heterogeneous, arbitrary data, and they can be appended to very efficiently."
   ]
  },
  {
   "cell_type": "markdown",
   "id": "6bddfa09",
   "metadata": {
    "slideshow": {
     "slide_type": "slide"
    }
   },
   "source": [
    "## 4. Loops\n",
    "\n",
    "Loops are a way to repeatedly execute some code statement. In Python, there are two types of loops: `for` and `while`."
   ]
  },
  {
   "cell_type": "markdown",
   "id": "5201f72d",
   "metadata": {
    "slideshow": {
     "slide_type": "slide"
    }
   },
   "source": [
    "#### 4.1 For Loop\n",
    "\n",
    "A `for` loop is used for iterating over a sequence (that is either a list, a tuple, a dictionary, a set, or a string)."
   ]
  },
  {
   "cell_type": "code",
   "execution_count": 17,
   "id": "dd822841",
   "metadata": {
    "slideshow": {
     "slide_type": "fragment"
    }
   },
   "outputs": [
    {
     "name": "stdout",
     "output_type": "stream",
     "text": [
      "1\n",
      "2\n",
      "3\n",
      "4\n",
      "5\n"
     ]
    }
   ],
   "source": [
    "# Let's create a list of numbers\n",
    "numbers = [1, 2, 3, 4, 5]\n",
    "\n",
    "# Now we will use a for loop to iterate over the numbers\n",
    "for num in numbers:\n",
    "    print(num)"
   ]
  },
  {
   "cell_type": "markdown",
   "id": "b2db805b",
   "metadata": {
    "slideshow": {
     "slide_type": "slide"
    }
   },
   "source": [
    "#### 4.2 While Loop\n",
    "\n",
    "A `while` loop can execute a set of statements as long as a condition is true."
   ]
  },
  {
   "cell_type": "code",
   "execution_count": 19,
   "id": "18c104aa",
   "metadata": {
    "slideshow": {
     "slide_type": "fragment"
    }
   },
   "outputs": [
    {
     "name": "stdout",
     "output_type": "stream",
     "text": [
      "1\n",
      "2\n",
      "3\n",
      "4\n",
      "5\n"
     ]
    }
   ],
   "source": [
    "# Let's print numbers from 1 to 5 using a while loop\n",
    "i = 1\n",
    "while i <= 5:\n",
    "    print(i)\n",
    "    i += 1"
   ]
  },
  {
   "cell_type": "markdown",
   "id": "4d193eb5",
   "metadata": {
    "slideshow": {
     "slide_type": "slide"
    }
   },
   "source": [
    "#### 4.3 Loop Control Statements\n",
    "\n",
    "Loop control statements change the execution of a loop from its normal sequence. Python supports the following control statements:\n",
    "\n",
    "- `break` statement: Terminates the loop and transfers execution to the statement immediately following the loop.\n",
    "- `continue` statement: Causes the loop to skip the remainder of its body and immediately retest its condition prior to reiterating.\n",
    "- `pass` statement: The `pass` statement in Python is used when a statement is required syntactically but you do not want any command or code to execute."
   ]
  },
  {
   "cell_type": "code",
   "execution_count": 21,
   "id": "60cb12ac",
   "metadata": {
    "slideshow": {
     "slide_type": "slide"
    }
   },
   "outputs": [
    {
     "name": "stdout",
     "output_type": "stream",
     "text": [
      "1\n",
      "2\n"
     ]
    }
   ],
   "source": [
    "# Let's use a break statement to exit the loop when i is 3\n",
    "i = 1\n",
    "while i <= 5:\n",
    "    if i == 3:\n",
    "        break\n",
    "    print(i)\n",
    "    i += 1"
   ]
  },
  {
   "cell_type": "code",
   "execution_count": 22,
   "id": "2cfd04c5",
   "metadata": {
    "slideshow": {
     "slide_type": "slide"
    }
   },
   "outputs": [
    {
     "name": "stdout",
     "output_type": "stream",
     "text": [
      "1\n",
      "2\n",
      "4\n",
      "5\n"
     ]
    }
   ],
   "source": [
    "# Now, let's use a continue statement to skip printing the number 3\n",
    "for i in range(1, 6):\n",
    "    if i == 3:\n",
    "        continue\n",
    "    print(i)"
   ]
  },
  {
   "cell_type": "markdown",
   "id": "5790bda4",
   "metadata": {},
   "source": [
    "Remember, loops are a fundamental concept in programming. They allow you to automate repetitive tasks, which can save time and make your code more readable and efficient."
   ]
  },
  {
   "cell_type": "markdown",
   "id": "2517a1ef",
   "metadata": {
    "slideshow": {
     "slide_type": "slide"
    }
   },
   "source": [
    "## 5. Functions\n",
    "\n",
    "A function is a block of organized, reusable code that is used to perform a single, related action. Functions provide better modularity for your application and a high degree of code reusing."
   ]
  },
  {
   "cell_type": "markdown",
   "id": "ceb67277",
   "metadata": {
    "slideshow": {
     "slide_type": "slide"
    }
   },
   "source": [
    "#### 5.1 Defining a Function\n",
    "\n",
    "You can define functions to provide the required functionality. Here are simple rules to define a function in Python:\n",
    "\n",
    "- Function blocks begin with the keyword `def` followed by the function name and parentheses `()`.\n",
    "- Any input parameters or arguments should be placed within these parentheses. You can also define parameters inside these parentheses.\n",
    "- The code block within every function starts with a colon `:` and is indented.\n",
    "- The statement `return [expression]` exits a function, optionally passing back an expression to the caller. A return statement with no arguments is the same as `return None`."
   ]
  },
  {
   "cell_type": "code",
   "execution_count": 3,
   "id": "5d639412",
   "metadata": {
    "slideshow": {
     "slide_type": "subslide"
    }
   },
   "outputs": [
    {
     "name": "stdout",
     "output_type": "stream",
     "text": [
      "Eric\n"
     ]
    }
   ],
   "source": [
    "# Let's define a function that adds two numbers\n",
    "def task():\n",
    "    return \"Eric\", \"M\"\n",
    "\n",
    "first, last = task()\n",
    "print(first)"
   ]
  },
  {
   "cell_type": "markdown",
   "id": "0130b11f",
   "metadata": {
    "slideshow": {
     "slide_type": "slide"
    }
   },
   "source": [
    "#### 5.2 Calling a Function\n",
    "\n",
    "After defining a function, you can call it by using its name followed by parentheses `()` and the arguments inside the parentheses."
   ]
  },
  {
   "cell_type": "code",
   "execution_count": 26,
   "id": "2257e940",
   "metadata": {
    "slideshow": {
     "slide_type": "fragment"
    }
   },
   "outputs": [
    {
     "name": "stdout",
     "output_type": "stream",
     "text": [
      "8\n"
     ]
    }
   ],
   "source": [
    "# Now let's call the function with two numbers\n",
    "result = add_numbers(3, 5)\n",
    "print(result)"
   ]
  },
  {
   "cell_type": "markdown",
   "id": "8b16b17e",
   "metadata": {
    "slideshow": {
     "slide_type": "slide"
    }
   },
   "source": [
    "#### 5.3 Default Argument Values\n",
    "\n",
    "For some functions, you may want to make some parameters optional and use default values in case the user does not want to provide values for them. This is done with the help of default argument values."
   ]
  },
  {
   "cell_type": "code",
   "execution_count": 29,
   "id": "cdbb2d74",
   "metadata": {
    "slideshow": {
     "slide_type": "fragment"
    }
   },
   "outputs": [
    {
     "name": "stdout",
     "output_type": "stream",
     "text": [
      "5\n"
     ]
    }
   ],
   "source": [
    "# Let's redefine the function to have a default value for y\n",
    "def add_numbers(x, y=2):\n",
    "    return x + y\n",
    "\n",
    "# Now let's call the function with one number\n",
    "result = add_numbers(3)\n",
    "print(result)"
   ]
  },
  {
   "cell_type": "markdown",
   "id": "b0056c91",
   "metadata": {},
   "source": [
    "Remember, functions are a fundamental concept in programming. They allow you to organize your code, make it more readable, and reuse it across your program."
   ]
  },
  {
   "cell_type": "markdown",
   "id": "b4a7b094",
   "metadata": {
    "slideshow": {
     "slide_type": "slide"
    }
   },
   "source": [
    "## 6. Strings\n"
   ]
  },
  {
   "cell_type": "markdown",
   "id": "ee281ebb",
   "metadata": {
    "slideshow": {
     "slide_type": "fragment"
    }
   },
   "source": [
    "Strings in Python are arrays of bytes representing Unicode characters. Python does not have a character data type, a single character is simply a string with a length of 1."
   ]
  },
  {
   "cell_type": "markdown",
   "id": "ee135bd7",
   "metadata": {
    "slideshow": {
     "slide_type": "slide"
    }
   },
   "source": [
    "#### 6.1 Creating a String\n",
    "\n",
    "Strings in Python can be created using single quotes or double quotes or even triple quotes."
   ]
  },
  {
   "cell_type": "code",
   "execution_count": 30,
   "id": "8ac6854f",
   "metadata": {
    "slideshow": {
     "slide_type": "fragment"
    }
   },
   "outputs": [
    {
     "name": "stdout",
     "output_type": "stream",
     "text": [
      "Hello, World!\n"
     ]
    }
   ],
   "source": [
    "# Let's create a string\n",
    "greeting = \"Hello, World!\"\n",
    "print(greeting)"
   ]
  },
  {
   "cell_type": "markdown",
   "id": "c45c9ef3",
   "metadata": {
    "slideshow": {
     "slide_type": "slide"
    }
   },
   "source": [
    "#### 6.2 Accessing Characters in a String\n",
    "\n",
    "You can access individual characters using indexing and a range of characters using slicing. Index starts from 0. Trying to access a character out of index range will raise an `IndexError`. The index must be an integer."
   ]
  },
  {
   "cell_type": "code",
   "execution_count": 32,
   "id": "9b6aab76",
   "metadata": {
    "slideshow": {
     "slide_type": "fragment"
    }
   },
   "outputs": [
    {
     "name": "stdout",
     "output_type": "stream",
     "text": [
      "H\n"
     ]
    }
   ],
   "source": [
    "# Let's access the first character in the string\n",
    "first_char = greeting[0]\n",
    "print(first_char)"
   ]
  },
  {
   "cell_type": "code",
   "execution_count": 35,
   "id": "0137f0c3",
   "metadata": {
    "slideshow": {
     "slide_type": "slide"
    }
   },
   "outputs": [
    {
     "ename": "IndexError",
     "evalue": "string index out of range",
     "output_type": "error",
     "traceback": [
      "\u001b[1;31m---------------------------------------------------------------------------\u001b[0m",
      "\u001b[1;31mIndexError\u001b[0m                                Traceback (most recent call last)",
      "Cell \u001b[1;32mIn[35], line 2\u001b[0m\n\u001b[0;32m      1\u001b[0m \u001b[38;5;66;03m# Let's try to access a character out of index range\u001b[39;00m\n\u001b[1;32m----> 2\u001b[0m error_char \u001b[38;5;241m=\u001b[39m \u001b[43mgreeting\u001b[49m\u001b[43m[\u001b[49m\u001b[38;5;241;43m99\u001b[39;49m\u001b[43m]\u001b[49m\n\u001b[0;32m      3\u001b[0m \u001b[38;5;28mprint\u001b[39m(error_char)\n",
      "\u001b[1;31mIndexError\u001b[0m: string index out of range"
     ]
    }
   ],
   "source": [
    "# Let's try to access a character out of index range\n",
    "error_char = greeting[99]\n",
    "print(error_char)"
   ]
  },
  {
   "cell_type": "markdown",
   "id": "d2071bbb",
   "metadata": {
    "slideshow": {
     "slide_type": "slide"
    }
   },
   "source": [
    "#### 6.3 String Methods\n",
    "\n",
    "Python has a set of built-in methods that you can use on strings. Some of the most commonly used ones are `lower()`, `upper()`, `split()`, `join()`, `find()`, `replace()`, `count()`, and `format()`."
   ]
  },
  {
   "cell_type": "code",
   "execution_count": 36,
   "id": "eb2eb762",
   "metadata": {
    "slideshow": {
     "slide_type": "fragment"
    }
   },
   "outputs": [
    {
     "name": "stdout",
     "output_type": "stream",
     "text": [
      "HELLO, WORLD!\n",
      "Hello, Python!\n"
     ]
    }
   ],
   "source": [
    "# Let's convert the string to uppercase\n",
    "uppercase_greeting = greeting.upper()\n",
    "print(uppercase_greeting)\n",
    "\n",
    "# Now, let's replace \"World\" with \"Python\"\n",
    "new_greeting = greeting.replace(\"World\", \"Pytho  n\")\n",
    "print(new_greeting)"
   ]
  },
  {
   "cell_type": "markdown",
   "id": "2867d0c9",
   "metadata": {},
   "source": [
    "Remember, strings are one of the most used data types in Python. They are used to represent text and can be manipulated in many ways using Python's built-in methods."
   ]
  },
  {
   "cell_type": "markdown",
   "id": "d9a5d16e",
   "metadata": {
    "slideshow": {
     "slide_type": "slide"
    }
   },
   "source": [
    "#### 6.4 Splitting a String\n",
    "\n",
    "The `split()` method splits a string into a list where each word is a list item. By default, it splits at the space character. However, you can specify any delimiter."
   ]
  },
  {
   "cell_type": "code",
   "execution_count": 37,
   "id": "0f8c3cca",
   "metadata": {
    "slideshow": {
     "slide_type": "fragment"
    }
   },
   "outputs": [
    {
     "name": "stdout",
     "output_type": "stream",
     "text": [
      "['Hello,', 'welcome', 'to', 'the', 'world', 'of', 'Python']\n",
      "['Hell', ', welc', 'me t', ' the w', 'rld ', 'f Pyth', 'n']\n"
     ]
    }
   ],
   "source": [
    "# Let's create a string\n",
    "sentence = \"Hello, welcome to the world of Python\"\n",
    "\n",
    "# Now, let's split the string into words\n",
    "words = sentence.split()\n",
    "print(words)\n",
    "\n",
    "# We can also split by a specific character\n",
    "words = sentence.split('o')\n",
    "print(words)"
   ]
  },
  {
   "cell_type": "markdown",
   "id": "2ed008f1",
   "metadata": {
    "slideshow": {
     "slide_type": "slide"
    }
   },
   "source": [
    "#### 6.5 Joining a String\n",
    "\n",
    "The `join()` method takes all items in an iterable and joins them into one string. A string must be specified as the separator.\n"
   ]
  },
  {
   "cell_type": "code",
   "execution_count": 38,
   "id": "d29c30b3",
   "metadata": {
    "slideshow": {
     "slide_type": "fragment"
    }
   },
   "outputs": [
    {
     "name": "stdout",
     "output_type": "stream",
     "text": [
      "Hello world\n",
      "Hello-world\n"
     ]
    }
   ],
   "source": [
    "# Let's create a list of words\n",
    "words = ['Hello', 'world']\n",
    "\n",
    "# Now, let's join the words into a sentence\n",
    "sentence = ' '.join(words)\n",
    "print(sentence)\n",
    "\n",
    "# We can also join with a specific character\n",
    "sentence = '-'.join(words)\n",
    "print(sentence)"
   ]
  },
  {
   "cell_type": "markdown",
   "id": "7011fc3b",
   "metadata": {
    "slideshow": {
     "slide_type": "slide"
    }
   },
   "source": [
    "#### 6.6 Formatting a String\n",
    "\n",
    "The `format()` method formats the specified values and inserts them inside the string's placeholder. The placeholder is defined using curly brackets `{}`."
   ]
  },
  {
   "cell_type": "code",
   "execution_count": 39,
   "id": "8a18bccf",
   "metadata": {
    "slideshow": {
     "slide_type": "fragment"
    }
   },
   "outputs": [
    {
     "name": "stdout",
     "output_type": "stream",
     "text": [
      "Hello, my name is John and I am 20 years old\n",
      "Hello, my name is John and I am 20 years old\n"
     ]
    }
   ],
   "source": [
    "# Let's create some variables\n",
    "name = \"John\"\n",
    "age = 20\n",
    "\n",
    "# Now, let's use the format method to insert values into the string\n",
    "greeting = \"Hello, my name is {} and I am {} years old\".format(name, age)\n",
    "print(greeting)\n",
    "\n",
    "# We can also use f-strings, a newer way to format strings\n",
    "greeting = f\"Hello, my name is {name} and I am {age} years old\"\n",
    "print(greeting)"
   ]
  },
  {
   "cell_type": "markdown",
   "id": "099be6ce",
   "metadata": {
    "slideshow": {
     "slide_type": "slide"
    }
   },
   "source": [
    "## 7. Dictionaries\n",
    "\n",
    "\n",
    "A dictionary is a collection which is unordered, changeable and indexed. In Python, dictionaries are written with curly brackets `{}`, and they have keys and values."
   ]
  },
  {
   "cell_type": "markdown",
   "id": "e8d84d1e",
   "metadata": {
    "slideshow": {
     "slide_type": "slide"
    }
   },
   "source": [
    "#### 7.1 Creating a Dictionary\n",
    "\n",
    "You can create a dictionary by enclosing a comma-separated list of key-value pairs in curly braces `{}`. A colon `:` separates each key from its associated value."
   ]
  },
  {
   "cell_type": "code",
   "execution_count": 40,
   "id": "ea8e26cd",
   "metadata": {
    "slideshow": {
     "slide_type": "fragment"
    }
   },
   "outputs": [
    {
     "name": "stdout",
     "output_type": "stream",
     "text": [
      "{'name': 'John Doe', 'age': 20, 'courses': ['CS101', 'MA101']}\n"
     ]
    }
   ],
   "source": [
    "# Let's create a dictionary\n",
    "student = {\n",
    "    \"name\": \"John Doe\",\n",
    "    \"age\": 20,\n",
    "    \"courses\": [\"CS101\", \"MA101\"]\n",
    "}\n",
    "\n",
    "print(student)"
   ]
  },
  {
   "cell_type": "markdown",
   "id": "1718802c",
   "metadata": {
    "slideshow": {
     "slide_type": "slide"
    }
   },
   "source": [
    "#### 7.2 Accessing Items in a Dictionary\n",
    "\n",
    "You can access the items of a dictionary by referring to its key name, inside square brackets `[]`."
   ]
  },
  {
   "cell_type": "code",
   "execution_count": 41,
   "id": "5f0b0339",
   "metadata": {
    "slideshow": {
     "slide_type": "fragment"
    }
   },
   "outputs": [
    {
     "name": "stdout",
     "output_type": "stream",
     "text": [
      "John Doe\n"
     ]
    }
   ],
   "source": [
    "# Let's access the name of the student\n",
    "name = student[\"name\"]\n",
    "print(name)"
   ]
  },
  {
   "cell_type": "markdown",
   "id": "085e89ef",
   "metadata": {
    "slideshow": {
     "slide_type": "slide"
    }
   },
   "source": [
    "#### 7.3 Modifying a Dictionary\n",
    "\n",
    "You can change the value of a specific item by referring to its key name."
   ]
  },
  {
   "cell_type": "code",
   "execution_count": 43,
   "id": "09dbe9d0",
   "metadata": {
    "slideshow": {
     "slide_type": "fragment"
    }
   },
   "outputs": [
    {
     "name": "stdout",
     "output_type": "stream",
     "text": [
      "{'name': 'John Doe', 'age': 21, 'courses': ['CS101', 'MA101']}\n"
     ]
    }
   ],
   "source": [
    "# Let's change the age of the student\n",
    "student[\"age\"] = 21\n",
    "print(student)"
   ]
  },
  {
   "cell_type": "markdown",
   "id": "f6c04cd7",
   "metadata": {
    "slideshow": {
     "slide_type": "slide"
    }
   },
   "source": [
    "#### 7.4 Dictionary Methods\n",
    "\n",
    "Python has a set of built-in methods that you can use on dictionaries. Some of the most commonly used ones are `keys()`, `values()`, `items()`, `get()`, `update()`, and `clear()`."
   ]
  },
  {
   "cell_type": "code",
   "execution_count": 44,
   "id": "94e7e8f1",
   "metadata": {
    "slideshow": {
     "slide_type": "fragment"
    }
   },
   "outputs": [
    {
     "name": "stdout",
     "output_type": "stream",
     "text": [
      "dict_keys(['name', 'age', 'courses'])\n",
      "dict_values(['John Doe', 21, ['CS101', 'MA101']])\n"
     ]
    }
   ],
   "source": [
    "# Let's get all the keys in the dictionary\n",
    "keys = student.keys()\n",
    "print(keys)\n",
    "\n",
    "# Now, let's get all the values in the dictionary\n",
    "values = student.values()\n",
    "print(values)"
   ]
  },
  {
   "cell_type": "markdown",
   "id": "8405245d",
   "metadata": {},
   "source": [
    "Remember, dictionaries are one of the most important data structures in Python. They allow you to store and retrieve data efficiently, and they are essential for working with data in Python."
   ]
  },
  {
   "cell_type": "markdown",
   "id": "2293b069",
   "metadata": {
    "slideshow": {
     "slide_type": "slide"
    }
   },
   "source": [
    "## 9. Files\n",
    "\n",
    "Python provides basic functions and methods necessary to manipulate files by default. You can do most of the file manipulation using a file object."
   ]
  },
  {
   "cell_type": "markdown",
   "id": "55b3b403",
   "metadata": {
    "slideshow": {
     "slide_type": "fragment"
    }
   },
   "source": [
    "#### 9.1 Reading a File\n",
    "\n",
    "Python has a built-in function `open()` to open a file. This function returns a file object, also called a handle, as it is used to read or modify the file accordingly.\n",
    "\n",
    "Once a file is opened and you have one file object, you can get various information related to that file. You can read the content of a file using the `read()` method.\n",
    "\n",
    "When you’re done with a file, use `close()` to end the connection to that file. Closing the file allows other programs to access it and helps protect against data corruption."
   ]
  },
  {
   "cell_type": "code",
   "execution_count": 48,
   "id": "aa5d4da8",
   "metadata": {
    "slideshow": {
     "slide_type": "slide"
    }
   },
   "outputs": [
    {
     "name": "stdout",
     "output_type": "stream",
     "text": [
      "Whoah! You're reading from a file!\n"
     ]
    }
   ],
   "source": [
    "# Let's open a file\n",
    "file = open(\"data/example_file.txt\", \"r\")\n",
    "\n",
    "# Let's read the file\n",
    "content = file.read()\n",
    "\n",
    "# Let's close the file\n",
    "file.close()\n",
    "print(content)"
   ]
  },
  {
   "cell_type": "markdown",
   "id": "9204a56c",
   "metadata": {
    "slideshow": {
     "slide_type": "slide"
    }
   },
   "source": [
    "#### 9.2 Writing to a File\n",
    "\n",
    "In order to write into a file we need to open it in write `w`, append `a` or exclusive creation `x` mode. We need to be careful with the `w` mode, as it will overwrite into the file if it already exists. All previous data are erased."
   ]
  },
  {
   "cell_type": "code",
   "execution_count": null,
   "id": "78937c13",
   "metadata": {
    "slideshow": {
     "slide_type": "fragment"
    }
   },
   "outputs": [],
   "source": [
    "# Let's write to a file\n",
    "file = open(\"data/example_file_writing.txt\", \"w\")\n",
    "file.write(\"Hello, World!\")\n",
    "file.close()"
   ]
  },
  {
   "cell_type": "markdown",
   "id": "84443ef1",
   "metadata": {
    "slideshow": {
     "slide_type": "slide"
    }
   },
   "source": [
    "#### 9.3 Using `with` for File Handling\n",
    "\n",
    "The `with` keyword in Python is used in exception handling to make the code cleaner and much more readable. It simplifies the management of common resources like file streams. When using `with`, you don't need to explicitly close the file. It is done automatically."
   ]
  },
  {
   "cell_type": "code",
   "execution_count": 4,
   "id": "a50077bb",
   "metadata": {
    "slideshow": {
     "slide_type": "fragment"
    }
   },
   "outputs": [
    {
     "name": "stdout",
     "output_type": "stream",
     "text": [
      "Whoah! You're reading from a file!\n"
     ]
    }
   ],
   "source": [
    "# Let's read a file using 'with'\n",
    "with open(\"data/example_file.txt\", \"r\") as file:\n",
    "    content = file.read()\n",
    "\n",
    "print(content)"
   ]
  },
  {
   "cell_type": "code",
   "execution_count": null,
   "id": "7ad61d5f",
   "metadata": {
    "slideshow": {
     "slide_type": "fragment"
    }
   },
   "outputs": [],
   "source": [
    "# Now, let's write to a file using 'with'\n",
    "with open(\"data/example_file_writing.txt\", \"w\") as file:\n",
    "    file.write(\"Hello, World!\")"
   ]
  },
  {
   "cell_type": "markdown",
   "id": "98096092",
   "metadata": {},
   "source": [
    "Using `with` for file handling is a good practice as it makes your code more readable and also handles the closing of the file automatically, even if exceptions occur within the block. This way, you don't have to remember to close the file and it helps to prevent bugs and leaks by ensuring that a resource is properly cleaned up when it is no longer needed."
   ]
  },
  {
   "cell_type": "markdown",
   "id": "889dbd2b",
   "metadata": {
    "slideshow": {
     "slide_type": "slide"
    }
   },
   "source": [
    "## 10. File Formats (JSON and CSV)\n",
    "\n",
    "In the world of AI and Machine Learning, data is king. And this data often comes in various formats, two of which are JSON and CSV. These are popular formats for storing data as they are easy to understand, portable and can be used in many different programming languages, including Python."
   ]
  },
  {
   "cell_type": "markdown",
   "id": "c249fd09",
   "metadata": {
    "slideshow": {
     "slide_type": "slide"
    }
   },
   "source": [
    "## 10.1 JSON\n",
    "\n",
    "JSON (JavaScript Object Notation) is a popular data format with diverse uses in data interchange, including that of machine learning algorithms. It is human readable, and although it is a data format in the JavaScript language, it is language-agnostic and can be used in many programming languages."
   ]
  },
  {
   "cell_type": "code",
   "execution_count": 54,
   "id": "0095c536",
   "metadata": {
    "slideshow": {
     "slide_type": "fragment"
    }
   },
   "outputs": [
    {
     "name": "stdout",
     "output_type": "stream",
     "text": [
      "{\"name\": \"John Doe\", \"age\": 20, \"courses\": [\"CS101\", \"MA101\"]}\n",
      "{'name': 'John Doe', 'age': 20, 'courses': ['CS101', 'MA101']}\n"
     ]
    }
   ],
   "source": [
    "import json\n",
    "\n",
    "# Let's create a dictionary\n",
    "student = {\n",
    "    \"name\": \"John Doe\",\n",
    "    \"age\": 20,\n",
    "    \"courses\": [\"CS101\", \"MA101\"]\n",
    "}\n",
    "\n",
    "# Now, let's convert the dictionary to a JSON string\n",
    "student_json = json.dumps(student)\n",
    "print(student_json)\n",
    "\n",
    "# We can also convert a JSON string back to a dictionary\n",
    "student_dict = json.loads(student_json)\n",
    "print(student_dict)"
   ]
  },
  {
   "cell_type": "markdown",
   "id": "f78512e1",
   "metadata": {
    "slideshow": {
     "slide_type": "slide"
    }
   },
   "source": [
    "#### 10.2 CSV\n",
    "\n",
    "CSV (Comma Separated Values) is the simplest form of storing data in tabular form as plain text. Machine learning algorithms require data in numerical arrays. Therefore, CSV files are a convenient way for importing data into arrays for use in machine learning."
   ]
  },
  {
   "cell_type": "code",
   "execution_count": 6,
   "id": "78a9ead6",
   "metadata": {
    "slideshow": {
     "slide_type": "fragment"
    }
   },
   "outputs": [],
   "source": [
    "import csv\n",
    "\n",
    "# Let's write to a CSV file\n",
    "with open('data/students.csv', 'w', newline='') as file:\n",
    "    writer = csv.writer(file)\n",
    "    writer.writerow([\"Name\", \"Age\"])\n",
    "    writer.writerow([\"John Doe\", 20])\n",
    "    writer.writerow([\"Jane Doe\", 22])"
   ]
  },
  {
   "cell_type": "code",
   "execution_count": 8,
   "id": "3882e06c",
   "metadata": {
    "slideshow": {
     "slide_type": "slide"
    }
   },
   "outputs": [
    {
     "name": "stdout",
     "output_type": "stream",
     "text": [
      "Name\n",
      "John Doe\n",
      "Jane Doe\n"
     ]
    }
   ],
   "source": [
    "# Now, let's read from a CSV file\n",
    "with open('data/students.csv', 'r') as file:\n",
    "    reader = csv.reader(file)\n",
    "    for row in reader:\n",
    "        print(row[0])"
   ]
  },
  {
   "cell_type": "markdown",
   "id": "50a7cd55",
   "metadata": {},
   "source": [
    "Understanding how to work with different file formats is crucial in AI and Machine Learning. Whether you're training a model with a large dataset, or you're extracting data from a web API, you'll likely encounter these file formats. Being able to manipulate these files will allow you to focus more on the actual Machine Learning rather than the data cleaning and wrangling."
   ]
  },
  {
   "cell_type": "markdown",
   "id": "2dc86ed8",
   "metadata": {
    "slideshow": {
     "slide_type": "slide"
    }
   },
   "source": [
    "## 11. Network Calls\n",
    "\n",
    "In the world of AI and Machine Learning, it's common to work with data that's not on your local machine. You might need to send a request to a website or an API to get the data you need. Python has several libraries for making network calls, but one of the easiest to use is `requests`."
   ]
  },
  {
   "cell_type": "markdown",
   "id": "9d5281f6",
   "metadata": {
    "slideshow": {
     "slide_type": "slide"
    }
   },
   "source": [
    "#### 11.1 Making a GET Request\n",
    "\n",
    "A GET request is a request to get the data from a specified resource. You can make a GET request using the `get()` function from the `requests` library."
   ]
  },
  {
   "cell_type": "code",
   "execution_count": 60,
   "id": "649f655f",
   "metadata": {
    "slideshow": {
     "slide_type": "fragment"
    }
   },
   "outputs": [
    {
     "name": "stdout",
     "output_type": "stream",
     "text": [
      "200\n",
      "[{'userId': 1, 'id': 1, 'title': 'sunt aut facere repellat provident occaecati excepturi optio reprehenderit', 'body': 'quia et suscipit\\nsuscipit recusandae consequuntur expedita et cum\\nreprehenderit molestiae ut ut quas totam\\nnostrum rerum est autem sunt rem eveniet architecto'}, {'userId': 1, 'id': 2, 'title': 'qui est esse', 'body': 'est rerum tempore vitae\\nsequi sint nihil reprehenderit dolor beatae ea dolores neque\\nfugiat blanditiis voluptate porro vel nihil molestiae ut reiciendis\\nqui aperiam non debitis possimus qui neque nisi nulla'}, {'userId': 1, 'id': 3, 'title': 'ea molestias quasi exercitationem repellat qui ipsa sit aut', 'body': 'et iusto sed quo iure\\nvoluptatem occaecati omnis eligendi aut ad\\nvoluptatem doloribus vel accusantium quis pariatur\\nmolestiae porro eius odio et labore et velit aut'}, {'userId': 1, 'id': 4, 'title': 'eum et est occaecati', 'body': 'ullam et saepe reiciendis voluptatem adipisci\\nsit amet autem assumenda provident rerum culpa\\nquis hic commodi nesciunt rem tenetur doloremque ipsam iure\\nquis sunt voluptatem rerum illo velit'}, {'userId': 1, 'id': 5, 'title': 'nesciunt quas odio', 'body': 'repudiandae veniam quaerat sunt sed\\nalias aut fugiat sit autem sed est\\nvoluptatem omnis possimus esse voluptatibus quis\\nest aut tenetur dolor neque'}, {'userId': 1, 'id': 6, 'title': 'dolorem eum magni eos aperiam quia', 'body': 'ut aspernatur corporis harum nihil quis provident sequi\\nmollitia nobis aliquid molestiae\\nperspiciatis et ea nemo ab reprehenderit accusantium quas\\nvoluptate dolores velit et doloremque molestiae'}, {'userId': 1, 'id': 7, 'title': 'magnam facilis autem', 'body': 'dolore placeat quibusdam ea quo vitae\\nmagni quis enim qui quis quo nemo aut saepe\\nquidem repellat excepturi ut quia\\nsunt ut sequi eos ea sed quas'}, {'userId': 1, 'id': 8, 'title': 'dolorem dolore est ipsam', 'body': 'dignissimos aperiam dolorem qui eum\\nfacilis quibusdam animi sint suscipit qui sint possimus cum\\nquaerat magni maiores excepturi\\nipsam ut commodi dolor voluptatum modi aut vitae'}, {'userId': 1, 'id': 9, 'title': 'nesciunt iure omnis dolorem tempora et accusantium', 'body': 'consectetur animi nesciunt iure dolore\\nenim quia ad\\nveniam autem ut quam aut nobis\\net est aut quod aut provident voluptas autem voluptas'}, {'userId': 1, 'id': 10, 'title': 'optio molestias id quia eum', 'body': 'quo et expedita modi cum officia vel magni\\ndoloribus qui repudiandae\\nvero nisi sit\\nquos veniam quod sed accusamus veritatis error'}, {'userId': 2, 'id': 11, 'title': 'et ea vero quia laudantium autem', 'body': 'delectus reiciendis molestiae occaecati non minima eveniet qui voluptatibus\\naccusamus in eum beatae sit\\nvel qui neque voluptates ut commodi qui incidunt\\nut animi commodi'}, {'userId': 2, 'id': 12, 'title': 'in quibusdam tempore odit est dolorem', 'body': 'itaque id aut magnam\\npraesentium quia et ea odit et ea voluptas et\\nsapiente quia nihil amet occaecati quia id voluptatem\\nincidunt ea est distinctio odio'}, {'userId': 2, 'id': 13, 'title': 'dolorum ut in voluptas mollitia et saepe quo animi', 'body': 'aut dicta possimus sint mollitia voluptas commodi quo doloremque\\niste corrupti reiciendis voluptatem eius rerum\\nsit cumque quod eligendi laborum minima\\nperferendis recusandae assumenda consectetur porro architecto ipsum ipsam'}, {'userId': 2, 'id': 14, 'title': 'voluptatem eligendi optio', 'body': 'fuga et accusamus dolorum perferendis illo voluptas\\nnon doloremque neque facere\\nad qui dolorum molestiae beatae\\nsed aut voluptas totam sit illum'}, {'userId': 2, 'id': 15, 'title': 'eveniet quod temporibus', 'body': 'reprehenderit quos placeat\\nvelit minima officia dolores impedit repudiandae molestiae nam\\nvoluptas recusandae quis delectus\\nofficiis harum fugiat vitae'}, {'userId': 2, 'id': 16, 'title': 'sint suscipit perspiciatis velit dolorum rerum ipsa laboriosam odio', 'body': 'suscipit nam nisi quo aperiam aut\\nasperiores eos fugit maiores voluptatibus quia\\nvoluptatem quis ullam qui in alias quia est\\nconsequatur magni mollitia accusamus ea nisi voluptate dicta'}, {'userId': 2, 'id': 17, 'title': 'fugit voluptas sed molestias voluptatem provident', 'body': 'eos voluptas et aut odit natus earum\\naspernatur fuga molestiae ullam\\ndeserunt ratione qui eos\\nqui nihil ratione nemo velit ut aut id quo'}, {'userId': 2, 'id': 18, 'title': 'voluptate et itaque vero tempora molestiae', 'body': 'eveniet quo quis\\nlaborum totam consequatur non dolor\\nut et est repudiandae\\nest voluptatem vel debitis et magnam'}, {'userId': 2, 'id': 19, 'title': 'adipisci placeat illum aut reiciendis qui', 'body': 'illum quis cupiditate provident sit magnam\\nea sed aut omnis\\nveniam maiores ullam consequatur atque\\nadipisci quo iste expedita sit quos voluptas'}, {'userId': 2, 'id': 20, 'title': 'doloribus ad provident suscipit at', 'body': 'qui consequuntur ducimus possimus quisquam amet similique\\nsuscipit porro ipsam amet\\neos veritatis officiis exercitationem vel fugit aut necessitatibus totam\\nomnis rerum consequatur expedita quidem cumque explicabo'}, {'userId': 3, 'id': 21, 'title': 'asperiores ea ipsam voluptatibus modi minima quia sint', 'body': 'repellat aliquid praesentium dolorem quo\\nsed totam minus non itaque\\nnihil labore molestiae sunt dolor eveniet hic recusandae veniam\\ntempora et tenetur expedita sunt'}, {'userId': 3, 'id': 22, 'title': 'dolor sint quo a velit explicabo quia nam', 'body': 'eos qui et ipsum ipsam suscipit aut\\nsed omnis non odio\\nexpedita earum mollitia molestiae aut atque rem suscipit\\nnam impedit esse'}, {'userId': 3, 'id': 23, 'title': 'maxime id vitae nihil numquam', 'body': 'veritatis unde neque eligendi\\nquae quod architecto quo neque vitae\\nest illo sit tempora doloremque fugit quod\\net et vel beatae sequi ullam sed tenetur perspiciatis'}, {'userId': 3, 'id': 24, 'title': 'autem hic labore sunt dolores incidunt', 'body': 'enim et ex nulla\\nomnis voluptas quia qui\\nvoluptatem consequatur numquam aliquam sunt\\ntotam recusandae id dignissimos aut sed asperiores deserunt'}, {'userId': 3, 'id': 25, 'title': 'rem alias distinctio quo quis', 'body': 'ullam consequatur ut\\nomnis quis sit vel consequuntur\\nipsa eligendi ipsum molestiae et omnis error nostrum\\nmolestiae illo tempore quia et distinctio'}, {'userId': 3, 'id': 26, 'title': 'est et quae odit qui non', 'body': 'similique esse doloribus nihil accusamus\\nomnis dolorem fuga consequuntur reprehenderit fugit recusandae temporibus\\nperspiciatis cum ut laudantium\\nomnis aut molestiae vel vero'}, {'userId': 3, 'id': 27, 'title': 'quasi id et eos tenetur aut quo autem', 'body': 'eum sed dolores ipsam sint possimus debitis occaecati\\ndebitis qui qui et\\nut placeat enim earum aut odit facilis\\nconsequatur suscipit necessitatibus rerum sed inventore temporibus consequatur'}, {'userId': 3, 'id': 28, 'title': 'delectus ullam et corporis nulla voluptas sequi', 'body': 'non et quaerat ex quae ad maiores\\nmaiores recusandae totam aut blanditiis mollitia quas illo\\nut voluptatibus voluptatem\\nsimilique nostrum eum'}, {'userId': 3, 'id': 29, 'title': 'iusto eius quod necessitatibus culpa ea', 'body': 'odit magnam ut saepe sed non qui\\ntempora atque nihil\\naccusamus illum doloribus illo dolor\\neligendi repudiandae odit magni similique sed cum maiores'}, {'userId': 3, 'id': 30, 'title': 'a quo magni similique perferendis', 'body': 'alias dolor cumque\\nimpedit blanditiis non eveniet odio maxime\\nblanditiis amet eius quis tempora quia autem rem\\na provident perspiciatis quia'}, {'userId': 4, 'id': 31, 'title': 'ullam ut quidem id aut vel consequuntur', 'body': 'debitis eius sed quibusdam non quis consectetur vitae\\nimpedit ut qui consequatur sed aut in\\nquidem sit nostrum et maiores adipisci atque\\nquaerat voluptatem adipisci repudiandae'}, {'userId': 4, 'id': 32, 'title': 'doloremque illum aliquid sunt', 'body': 'deserunt eos nobis asperiores et hic\\nest debitis repellat molestiae optio\\nnihil ratione ut eos beatae quibusdam distinctio maiores\\nearum voluptates et aut adipisci ea maiores voluptas maxime'}, {'userId': 4, 'id': 33, 'title': 'qui explicabo molestiae dolorem', 'body': 'rerum ut et numquam laborum odit est sit\\nid qui sint in\\nquasi tenetur tempore aperiam et quaerat qui in\\nrerum officiis sequi cumque quod'}, {'userId': 4, 'id': 34, 'title': 'magnam ut rerum iure', 'body': 'ea velit perferendis earum ut voluptatem voluptate itaque iusto\\ntotam pariatur in\\nnemo voluptatem voluptatem autem magni tempora minima in\\nest distinctio qui assumenda accusamus dignissimos officia nesciunt nobis'}, {'userId': 4, 'id': 35, 'title': 'id nihil consequatur molestias animi provident', 'body': 'nisi error delectus possimus ut eligendi vitae\\nplaceat eos harum cupiditate facilis reprehenderit voluptatem beatae\\nmodi ducimus quo illum voluptas eligendi\\net nobis quia fugit'}, {'userId': 4, 'id': 36, 'title': 'fuga nam accusamus voluptas reiciendis itaque', 'body': 'ad mollitia et omnis minus architecto odit\\nvoluptas doloremque maxime aut non ipsa qui alias veniam\\nblanditiis culpa aut quia nihil cumque facere et occaecati\\nqui aspernatur quia eaque ut aperiam inventore'}, {'userId': 4, 'id': 37, 'title': 'provident vel ut sit ratione est', 'body': 'debitis et eaque non officia sed nesciunt pariatur vel\\nvoluptatem iste vero et ea\\nnumquam aut expedita ipsum nulla in\\nvoluptates omnis consequatur aut enim officiis in quam qui'}, {'userId': 4, 'id': 38, 'title': 'explicabo et eos deleniti nostrum ab id repellendus', 'body': 'animi esse sit aut sit nesciunt assumenda eum voluptas\\nquia voluptatibus provident quia necessitatibus ea\\nrerum repudiandae quia voluptatem delectus fugit aut id quia\\nratione optio eos iusto veniam iure'}, {'userId': 4, 'id': 39, 'title': 'eos dolorem iste accusantium est eaque quam', 'body': 'corporis rerum ducimus vel eum accusantium\\nmaxime aspernatur a porro possimus iste omnis\\nest in deleniti asperiores fuga aut\\nvoluptas sapiente vel dolore minus voluptatem incidunt ex'}, {'userId': 4, 'id': 40, 'title': 'enim quo cumque', 'body': 'ut voluptatum aliquid illo tenetur nemo sequi quo facilis\\nipsum rem optio mollitia quas\\nvoluptatem eum voluptas qui\\nunde omnis voluptatem iure quasi maxime voluptas nam'}, {'userId': 5, 'id': 41, 'title': 'non est facere', 'body': 'molestias id nostrum\\nexcepturi molestiae dolore omnis repellendus quaerat saepe\\nconsectetur iste quaerat tenetur asperiores accusamus ex ut\\nnam quidem est ducimus sunt debitis saepe'}, {'userId': 5, 'id': 42, 'title': 'commodi ullam sint et excepturi error explicabo praesentium voluptas', 'body': 'odio fugit voluptatum ducimus earum autem est incidunt voluptatem\\nodit reiciendis aliquam sunt sequi nulla dolorem\\nnon facere repellendus voluptates quia\\nratione harum vitae ut'}, {'userId': 5, 'id': 43, 'title': 'eligendi iste nostrum consequuntur adipisci praesentium sit beatae perferendis', 'body': 'similique fugit est\\nillum et dolorum harum et voluptate eaque quidem\\nexercitationem quos nam commodi possimus cum odio nihil nulla\\ndolorum exercitationem magnam ex et a et distinctio debitis'}, {'userId': 5, 'id': 44, 'title': 'optio dolor molestias sit', 'body': 'temporibus est consectetur dolore\\net libero debitis vel velit laboriosam quia\\nipsum quibusdam qui itaque fuga rem aut\\nea et iure quam sed maxime ut distinctio quae'}, {'userId': 5, 'id': 45, 'title': 'ut numquam possimus omnis eius suscipit laudantium iure', 'body': 'est natus reiciendis nihil possimus aut provident\\nex et dolor\\nrepellat pariatur est\\nnobis rerum repellendus dolorem autem'}, {'userId': 5, 'id': 46, 'title': 'aut quo modi neque nostrum ducimus', 'body': 'voluptatem quisquam iste\\nvoluptatibus natus officiis facilis dolorem\\nquis quas ipsam\\nvel et voluptatum in aliquid'}, {'userId': 5, 'id': 47, 'title': 'quibusdam cumque rem aut deserunt', 'body': 'voluptatem assumenda ut qui ut cupiditate aut impedit veniam\\noccaecati nemo illum voluptatem laudantium\\nmolestiae beatae rerum ea iure soluta nostrum\\neligendi et voluptate'}, {'userId': 5, 'id': 48, 'title': 'ut voluptatem illum ea doloribus itaque eos', 'body': 'voluptates quo voluptatem facilis iure occaecati\\nvel assumenda rerum officia et\\nillum perspiciatis ab deleniti\\nlaudantium repellat ad ut et autem reprehenderit'}, {'userId': 5, 'id': 49, 'title': 'laborum non sunt aut ut assumenda perspiciatis voluptas', 'body': 'inventore ab sint\\nnatus fugit id nulla sequi architecto nihil quaerat\\neos tenetur in in eum veritatis non\\nquibusdam officiis aspernatur cumque aut commodi aut'}, {'userId': 5, 'id': 50, 'title': 'repellendus qui recusandae incidunt voluptates tenetur qui omnis exercitationem', 'body': 'error suscipit maxime adipisci consequuntur recusandae\\nvoluptas eligendi et est et voluptates\\nquia distinctio ab amet quaerat molestiae et vitae\\nadipisci impedit sequi nesciunt quis consectetur'}, {'userId': 6, 'id': 51, 'title': 'soluta aliquam aperiam consequatur illo quis voluptas', 'body': 'sunt dolores aut doloribus\\ndolore doloribus voluptates tempora et\\ndoloremque et quo\\ncum asperiores sit consectetur dolorem'}, {'userId': 6, 'id': 52, 'title': 'qui enim et consequuntur quia animi quis voluptate quibusdam', 'body': 'iusto est quibusdam fuga quas quaerat molestias\\na enim ut sit accusamus enim\\ntemporibus iusto accusantium provident architecto\\nsoluta esse reprehenderit qui laborum'}, {'userId': 6, 'id': 53, 'title': 'ut quo aut ducimus alias', 'body': 'minima harum praesentium eum rerum illo dolore\\nquasi exercitationem rerum nam\\nporro quis neque quo\\nconsequatur minus dolor quidem veritatis sunt non explicabo similique'}, {'userId': 6, 'id': 54, 'title': 'sit asperiores ipsam eveniet odio non quia', 'body': 'totam corporis dignissimos\\nvitae dolorem ut occaecati accusamus\\nex velit deserunt\\net exercitationem vero incidunt corrupti mollitia'}, {'userId': 6, 'id': 55, 'title': 'sit vel voluptatem et non libero', 'body': 'debitis excepturi ea perferendis harum libero optio\\neos accusamus cum fuga ut sapiente repudiandae\\net ut incidunt omnis molestiae\\nnihil ut eum odit'}, {'userId': 6, 'id': 56, 'title': 'qui et at rerum necessitatibus', 'body': 'aut est omnis dolores\\nneque rerum quod ea rerum velit pariatur beatae excepturi\\net provident voluptas corrupti\\ncorporis harum reprehenderit dolores eligendi'}, {'userId': 6, 'id': 57, 'title': 'sed ab est est', 'body': 'at pariatur consequuntur earum quidem\\nquo est laudantium soluta voluptatem\\nqui ullam et est\\net cum voluptas voluptatum repellat est'}, {'userId': 6, 'id': 58, 'title': 'voluptatum itaque dolores nisi et quasi', 'body': 'veniam voluptatum quae adipisci id\\net id quia eos ad et dolorem\\naliquam quo nisi sunt eos impedit error\\nad similique veniam'}, {'userId': 6, 'id': 59, 'title': 'qui commodi dolor at maiores et quis id accusantium', 'body': 'perspiciatis et quam ea autem temporibus non voluptatibus qui\\nbeatae a earum officia nesciunt dolores suscipit voluptas et\\nanimi doloribus cum rerum quas et magni\\net hic ut ut commodi expedita sunt'}, {'userId': 6, 'id': 60, 'title': 'consequatur placeat omnis quisquam quia reprehenderit fugit veritatis facere', 'body': 'asperiores sunt ab assumenda cumque modi velit\\nqui esse omnis\\nvoluptate et fuga perferendis voluptas\\nillo ratione amet aut et omnis'}, {'userId': 7, 'id': 61, 'title': 'voluptatem doloribus consectetur est ut ducimus', 'body': 'ab nemo optio odio\\ndelectus tenetur corporis similique nobis repellendus rerum omnis facilis\\nvero blanditiis debitis in nesciunt doloribus dicta dolores\\nmagnam minus velit'}, {'userId': 7, 'id': 62, 'title': 'beatae enim quia vel', 'body': 'enim aspernatur illo distinctio quae praesentium\\nbeatae alias amet delectus qui voluptate distinctio\\nodit sint accusantium autem omnis\\nquo molestiae omnis ea eveniet optio'}, {'userId': 7, 'id': 63, 'title': 'voluptas blanditiis repellendus animi ducimus error sapiente et suscipit', 'body': 'enim adipisci aspernatur nemo\\nnumquam omnis facere dolorem dolor ex quis temporibus incidunt\\nab delectus culpa quo reprehenderit blanditiis asperiores\\naccusantium ut quam in voluptatibus voluptas ipsam dicta'}, {'userId': 7, 'id': 64, 'title': 'et fugit quas eum in in aperiam quod', 'body': 'id velit blanditiis\\neum ea voluptatem\\nmolestiae sint occaecati est eos perspiciatis\\nincidunt a error provident eaque aut aut qui'}, {'userId': 7, 'id': 65, 'title': 'consequatur id enim sunt et et', 'body': 'voluptatibus ex esse\\nsint explicabo est aliquid cumque adipisci fuga repellat labore\\nmolestiae corrupti ex saepe at asperiores et perferendis\\nnatus id esse incidunt pariatur'}, {'userId': 7, 'id': 66, 'title': 'repudiandae ea animi iusto', 'body': 'officia veritatis tenetur vero qui itaque\\nsint non ratione\\nsed et ut asperiores iusto eos molestiae nostrum\\nveritatis quibusdam et nemo iusto saepe'}, {'userId': 7, 'id': 67, 'title': 'aliquid eos sed fuga est maxime repellendus', 'body': 'reprehenderit id nostrum\\nvoluptas doloremque pariatur sint et accusantium quia quod aspernatur\\net fugiat amet\\nnon sapiente et consequatur necessitatibus molestiae'}, {'userId': 7, 'id': 68, 'title': 'odio quis facere architecto reiciendis optio', 'body': 'magnam molestiae perferendis quisquam\\nqui cum reiciendis\\nquaerat animi amet hic inventore\\nea quia deleniti quidem saepe porro velit'}, {'userId': 7, 'id': 69, 'title': 'fugiat quod pariatur odit minima', 'body': 'officiis error culpa consequatur modi asperiores et\\ndolorum assumenda voluptas et vel qui aut vel rerum\\nvoluptatum quisquam perspiciatis quia rerum consequatur totam quas\\nsequi commodi repudiandae asperiores et saepe a'}, {'userId': 7, 'id': 70, 'title': 'voluptatem laborum magni', 'body': 'sunt repellendus quae\\nest asperiores aut deleniti esse accusamus repellendus quia aut\\nquia dolorem unde\\neum tempora esse dolore'}, {'userId': 8, 'id': 71, 'title': 'et iusto veniam et illum aut fuga', 'body': 'occaecati a doloribus\\niste saepe consectetur placeat eum voluptate dolorem et\\nqui quo quia voluptas\\nrerum ut id enim velit est perferendis'}, {'userId': 8, 'id': 72, 'title': 'sint hic doloribus consequatur eos non id', 'body': 'quam occaecati qui deleniti consectetur\\nconsequatur aut facere quas exercitationem aliquam hic voluptas\\nneque id sunt ut aut accusamus\\nsunt consectetur expedita inventore velit'}, {'userId': 8, 'id': 73, 'title': 'consequuntur deleniti eos quia temporibus ab aliquid at', 'body': 'voluptatem cumque tenetur consequatur expedita ipsum nemo quia explicabo\\naut eum minima consequatur\\ntempore cumque quae est et\\net in consequuntur voluptatem voluptates aut'}, {'userId': 8, 'id': 74, 'title': 'enim unde ratione doloribus quas enim ut sit sapiente', 'body': 'odit qui et et necessitatibus sint veniam\\nmollitia amet doloremque molestiae commodi similique magnam et quam\\nblanditiis est itaque\\nquo et tenetur ratione occaecati molestiae tempora'}, {'userId': 8, 'id': 75, 'title': 'dignissimos eum dolor ut enim et delectus in', 'body': 'commodi non non omnis et voluptas sit\\nautem aut nobis magnam et sapiente voluptatem\\net laborum repellat qui delectus facilis temporibus\\nrerum amet et nemo voluptate expedita adipisci error dolorem'}, {'userId': 8, 'id': 76, 'title': 'doloremque officiis ad et non perferendis', 'body': 'ut animi facere\\ntotam iusto tempore\\nmolestiae eum aut et dolorem aperiam\\nquaerat recusandae totam odio'}, {'userId': 8, 'id': 77, 'title': 'necessitatibus quasi exercitationem odio', 'body': 'modi ut in nulla repudiandae dolorum nostrum eos\\naut consequatur omnis\\nut incidunt est omnis iste et quam\\nvoluptates sapiente aliquam asperiores nobis amet corrupti repudiandae provident'}, {'userId': 8, 'id': 78, 'title': 'quam voluptatibus rerum veritatis', 'body': 'nobis facilis odit tempore cupiditate quia\\nassumenda doloribus rerum qui ea\\nillum et qui totam\\naut veniam repellendus'}, {'userId': 8, 'id': 79, 'title': 'pariatur consequatur quia magnam autem omnis non amet', 'body': 'libero accusantium et et facere incidunt sit dolorem\\nnon excepturi qui quia sed laudantium\\nquisquam molestiae ducimus est\\nofficiis esse molestiae iste et quos'}, {'userId': 8, 'id': 80, 'title': 'labore in ex et explicabo corporis aut quas', 'body': 'ex quod dolorem ea eum iure qui provident amet\\nquia qui facere excepturi et repudiandae\\nasperiores molestias provident\\nminus incidunt vero fugit rerum sint sunt excepturi provident'}, {'userId': 9, 'id': 81, 'title': 'tempora rem veritatis voluptas quo dolores vero', 'body': 'facere qui nesciunt est voluptatum voluptatem nisi\\nsequi eligendi necessitatibus ea at rerum itaque\\nharum non ratione velit laboriosam quis consequuntur\\nex officiis minima doloremque voluptas ut aut'}, {'userId': 9, 'id': 82, 'title': 'laudantium voluptate suscipit sunt enim enim', 'body': 'ut libero sit aut totam inventore sunt\\nporro sint qui sunt molestiae\\nconsequatur cupiditate qui iste ducimus adipisci\\ndolor enim assumenda soluta laboriosam amet iste delectus hic'}, {'userId': 9, 'id': 83, 'title': 'odit et voluptates doloribus alias odio et', 'body': 'est molestiae facilis quis tempora numquam nihil qui\\nvoluptate sapiente consequatur est qui\\nnecessitatibus autem aut ipsa aperiam modi dolore numquam\\nreprehenderit eius rem quibusdam'}, {'userId': 9, 'id': 84, 'title': 'optio ipsam molestias necessitatibus occaecati facilis veritatis dolores aut', 'body': 'sint molestiae magni a et quos\\neaque et quasi\\nut rerum debitis similique veniam\\nrecusandae dignissimos dolor incidunt consequatur odio'}, {'userId': 9, 'id': 85, 'title': 'dolore veritatis porro provident adipisci blanditiis et sunt', 'body': 'similique sed nisi voluptas iusto omnis\\nmollitia et quo\\nassumenda suscipit officia magnam sint sed tempora\\nenim provident pariatur praesentium atque animi amet ratione'}, {'userId': 9, 'id': 86, 'title': 'placeat quia et porro iste', 'body': 'quasi excepturi consequatur iste autem temporibus sed molestiae beatae\\net quaerat et esse ut\\nvoluptatem occaecati et vel explicabo autem\\nasperiores pariatur deserunt optio'}, {'userId': 9, 'id': 87, 'title': 'nostrum quis quasi placeat', 'body': 'eos et molestiae\\nnesciunt ut a\\ndolores perspiciatis repellendus repellat aliquid\\nmagnam sint rem ipsum est'}, {'userId': 9, 'id': 88, 'title': 'sapiente omnis fugit eos', 'body': 'consequatur omnis est praesentium\\nducimus non iste\\nneque hic deserunt\\nvoluptatibus veniam cum et rerum sed'}, {'userId': 9, 'id': 89, 'title': 'sint soluta et vel magnam aut ut sed qui', 'body': 'repellat aut aperiam totam temporibus autem et\\narchitecto magnam ut\\nconsequatur qui cupiditate rerum quia soluta dignissimos nihil iure\\ntempore quas est'}, {'userId': 9, 'id': 90, 'title': 'ad iusto omnis odit dolor voluptatibus', 'body': 'minus omnis soluta quia\\nqui sed adipisci voluptates illum ipsam voluptatem\\neligendi officia ut in\\neos soluta similique molestias praesentium blanditiis'}, {'userId': 10, 'id': 91, 'title': 'aut amet sed', 'body': 'libero voluptate eveniet aperiam sed\\nsunt placeat suscipit molestias\\nsimilique fugit nam natus\\nexpedita consequatur consequatur dolores quia eos et placeat'}, {'userId': 10, 'id': 92, 'title': 'ratione ex tenetur perferendis', 'body': 'aut et excepturi dicta laudantium sint rerum nihil\\nlaudantium et at\\na neque minima officia et similique libero et\\ncommodi voluptate qui'}, {'userId': 10, 'id': 93, 'title': 'beatae soluta recusandae', 'body': 'dolorem quibusdam ducimus consequuntur dicta aut quo laboriosam\\nvoluptatem quis enim recusandae ut sed sunt\\nnostrum est odit totam\\nsit error sed sunt eveniet provident qui nulla'}, {'userId': 10, 'id': 94, 'title': 'qui qui voluptates illo iste minima', 'body': 'aspernatur expedita soluta quo ab ut similique\\nexpedita dolores amet\\nsed temporibus distinctio magnam saepe deleniti\\nomnis facilis nam ipsum natus sint similique omnis'}, {'userId': 10, 'id': 95, 'title': 'id minus libero illum nam ad officiis', 'body': 'earum voluptatem facere provident blanditiis velit laboriosam\\npariatur accusamus odio saepe\\ncumque dolor qui a dicta ab doloribus consequatur omnis\\ncorporis cupiditate eaque assumenda ad nesciunt'}, {'userId': 10, 'id': 96, 'title': 'quaerat velit veniam amet cupiditate aut numquam ut sequi', 'body': 'in non odio excepturi sint eum\\nlabore voluptates vitae quia qui et\\ninventore itaque rerum\\nveniam non exercitationem delectus aut'}, {'userId': 10, 'id': 97, 'title': 'quas fugiat ut perspiciatis vero provident', 'body': 'eum non blanditiis soluta porro quibusdam voluptas\\nvel voluptatem qui placeat dolores qui velit aut\\nvel inventore aut cumque culpa explicabo aliquid at\\nperspiciatis est et voluptatem dignissimos dolor itaque sit nam'}, {'userId': 10, 'id': 98, 'title': 'laboriosam dolor voluptates', 'body': 'doloremque ex facilis sit sint culpa\\nsoluta assumenda eligendi non ut eius\\nsequi ducimus vel quasi\\nveritatis est dolores'}, {'userId': 10, 'id': 99, 'title': 'temporibus sit alias delectus eligendi possimus magni', 'body': 'quo deleniti praesentium dicta non quod\\naut est molestias\\nmolestias et officia quis nihil\\nitaque dolorem quia'}, {'userId': 10, 'id': 100, 'title': 'at nam consequatur ea labore ea harum', 'body': 'cupiditate quo est a modi nesciunt soluta\\nipsa voluptas error itaque dicta in\\nautem qui minus magnam et distinctio eum\\naccusamus ratione error aut'}]\n"
     ]
    }
   ],
   "source": [
    "import requests\n",
    "\n",
    "# Let's make a GET request to an API\n",
    "response = requests.get('https://jsonplaceholder.typicode.com/posts')\n",
    "\n",
    "# Now, let's print the status code of the response\n",
    "print(response.status_code)\n",
    "\n",
    "# And let's print the data of the response\n",
    "print(response.json())"
   ]
  },
  {
   "cell_type": "markdown",
   "id": "a110fd68",
   "metadata": {
    "slideshow": {
     "slide_type": "slide"
    }
   },
   "source": [
    "#### 11.2 Making a POST Request\n",
    "\n",
    "A POST request is a request to send data to a server to create/update a resource. The data sent to the server with POST is stored in the request body of the HTTP request."
   ]
  },
  {
   "cell_type": "code",
   "execution_count": 62,
   "id": "92b46a57",
   "metadata": {
    "slideshow": {
     "slide_type": "fragment"
    }
   },
   "outputs": [
    {
     "name": "stdout",
     "output_type": "stream",
     "text": [
      "201\n",
      "{'title': 'foo', 'body': 'bar', 'userId': '1', 'id': 101}\n"
     ]
    }
   ],
   "source": [
    "# Let's make a POST request to an API\n",
    "data = {'title': 'foo', 'body': 'bar', 'userId': 1}\n",
    "response = requests.post('https://jsonplaceholder.typicode.com/posts', data=data)\n",
    "\n",
    "# Now, let's print the status code of the response\n",
    "print(response.status_code)\n",
    "\n",
    "# And let's print the data of the response\n",
    "print(response.json())"
   ]
  },
  {
   "cell_type": "markdown",
   "id": "8397be0d",
   "metadata": {},
   "source": [
    "Understanding how to make network calls is crucial in AI and Machine Learning. Whether you're fetching data from an API, or sending data to a server, being able to make network calls allows you to work with data that's not on your local machine."
   ]
  },
  {
   "cell_type": "markdown",
   "id": "15d05140",
   "metadata": {
    "slideshow": {
     "slide_type": "slide"
    }
   },
   "source": [
    "## 12. List Comprehensions"
   ]
  },
  {
   "cell_type": "markdown",
   "id": "0b9738ea",
   "metadata": {
    "slideshow": {
     "slide_type": "fragment"
    }
   },
   "source": [
    "List comprehensions provide a concise way to create lists based on existing lists or other iterable objects. They can make your code more readable and efficient, especially when you're dealing with complex loops and lambda functions."
   ]
  },
  {
   "cell_type": "markdown",
   "id": "aea37f01",
   "metadata": {
    "slideshow": {
     "slide_type": "slide"
    }
   },
   "source": [
    "#### Basic Syntax\n",
    "\n",
    "The basic syntax of a list comprehension in Python is:\n",
    "\n",
    "```python\n",
    "[expression for item in iterable]\n",
    "```\n",
    "\n",
    "The `expression` is the operation you want to apply to each `item` in the `iterable`.\n",
    "\n",
    "Let's see an example:"
   ]
  },
  {
   "cell_type": "code",
   "execution_count": 1,
   "id": "4dcba9b9",
   "metadata": {
    "slideshow": {
     "slide_type": "fragment"
    }
   },
   "outputs": [
    {
     "name": "stdout",
     "output_type": "stream",
     "text": [
      "[0, 1, 4, 9, 16, 25, 36, 49, 64, 81]\n"
     ]
    }
   ],
   "source": [
    "# Create a list of squares for numbers from 0 to 9\n",
    "squares = [x**2 for x in range(10)]\n",
    "print(squares)"
   ]
  },
  {
   "cell_type": "markdown",
   "id": "040a1059",
   "metadata": {
    "slideshow": {
     "slide_type": "slide"
    }
   },
   "source": [
    "#### Conditionals in List Comprehensions\n",
    "\n",
    "You can also include conditionals in list comprehensions to filter the items from the iterable. The syntax is:\n",
    "\n",
    "```python\n",
    "[expression for item in iterable if condition]\n",
    "```\n",
    "\n",
    "Here's an example:"
   ]
  },
  {
   "cell_type": "code",
   "execution_count": 3,
   "id": "a86f107d",
   "metadata": {
    "slideshow": {
     "slide_type": "fragment"
    }
   },
   "outputs": [
    {
     "name": "stdout",
     "output_type": "stream",
     "text": [
      "[0, 4, 16, 36, 64]\n"
     ]
    }
   ],
   "source": [
    "# Create a list of squares for even numbers from 0 to 9\n",
    "even_squares = [x**2 for x in range(10) if x % 2 == 0]\n",
    "print(even_squares)"
   ]
  },
  {
   "cell_type": "markdown",
   "id": "c8ed67a6",
   "metadata": {
    "slideshow": {
     "slide_type": "slide"
    }
   },
   "source": [
    "## 13. Unpacking Dictionaries"
   ]
  },
  {
   "cell_type": "markdown",
   "id": "1b7c8885",
   "metadata": {
    "slideshow": {
     "slide_type": "fragment"
    }
   },
   "source": [
    "Unpacking in Python refers to the process of breaking up the collection into individual elements. This is also known as destructuring. When it comes to dictionaries, unpacking can be a powerful tool to extract key-value pairs.\n"
   ]
  },
  {
   "cell_type": "code",
   "execution_count": 11,
   "id": "d070deaa",
   "metadata": {
    "slideshow": {
     "slide_type": "fragment"
    }
   },
   "outputs": [
    {
     "name": "stdout",
     "output_type": "stream",
     "text": [
      "{'name': 'John', 'age': 30, 'work': 'UTRGV'}\n"
     ]
    }
   ],
   "source": [
    "# Create a dictionary\n",
    "person = {\"name\": \"John\", \"age\": 30}\n",
    "\n",
    "# Unpack the dictionary\n",
    "print({**person, \"work\": \"UTRGV\"})"
   ]
  },
  {
   "cell_type": "markdown",
   "id": "f067a835",
   "metadata": {
    "slideshow": {
     "slide_type": "slide"
    }
   },
   "source": [
    "#### Merging Dictionaries\n",
    "\n",
    "One common use of dictionary unpacking is to merge two or more dictionaries. Here's how you can do it:"
   ]
  },
  {
   "cell_type": "code",
   "execution_count": 8,
   "id": "841801b2",
   "metadata": {
    "slideshow": {
     "slide_type": "fragment"
    }
   },
   "outputs": [
    {
     "name": "stdout",
     "output_type": "stream",
     "text": [
      "{'name': 'John', 'age': 30, 'job': 'Engineer', 'city': 'New York'}\n"
     ]
    }
   ],
   "source": [
    "# Create two dictionaries\n",
    "dict1 = {\"name\": \"John\", \"age\": 30}\n",
    "dict2 = {\"job\": \"Engineer\", \"city\": \"New York\"}\n",
    "\n",
    "# Merge the dictionaries\n",
    "merged_dict = {**dict1, **dict2}\n",
    "print(merged_dict)"
   ]
  },
  {
   "cell_type": "markdown",
   "id": "0b54ad23",
   "metadata": {
    "slideshow": {
     "slide_type": "slide"
    }
   },
   "source": [
    "#### Unpacking in Function Arguments\n",
    "\n",
    "Dictionary unpacking can also be used to pass arguments to a function. The keys in the dictionary need to match the parameter names in the function. Here's an example:"
   ]
  },
  {
   "cell_type": "code",
   "execution_count": 10,
   "id": "16ea9340",
   "metadata": {},
   "outputs": [
    {
     "name": "stdout",
     "output_type": "stream",
     "text": [
      "Hello, my name is John and I'm 30 years old.\n"
     ]
    }
   ],
   "source": [
    "# Create a function\n",
    "def greet(name, age):\n",
    "    print(f\"Hello, my name is {name} and I'm {age} years old.\")\n",
    "\n",
    "# Create a dictionary\n",
    "person = {\"name\": \"John\", \"age\": 30}\n",
    "\n",
    "# Use dictionary unpacking to pass arguments to the function\n",
    "greet(**person)"
   ]
  }
 ],
 "metadata": {
  "celltoolbar": "Slideshow",
  "kernelspec": {
   "display_name": "Python 3 (ipykernel)",
   "language": "python",
   "name": "python3"
  },
  "language_info": {
   "codemirror_mode": {
    "name": "ipython",
    "version": 3
   },
   "file_extension": ".py",
   "mimetype": "text/x-python",
   "name": "python",
   "nbconvert_exporter": "python",
   "pygments_lexer": "ipython3",
   "version": "3.9.6"
  }
 },
 "nbformat": 4,
 "nbformat_minor": 5
}
